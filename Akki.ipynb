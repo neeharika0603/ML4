{
 "cells": [
  {
   "cell_type": "code",
   "execution_count": 3,
   "id": "c7b50beb",
   "metadata": {},
   "outputs": [
    {
     "name": "stdout",
     "output_type": "stream",
     "text": [
      "Entropy of each attribute / feature:\n",
      "Age: 1.577\n",
      "Income: 1.557\n",
      "Student: 1.000\n",
      "Credit_Rating: 0.985\n",
      "First feature to be selected for constructing the decision tree:\n",
      "Age: 1.577\n"
     ]
    }
   ],
   "source": [
    "\n",
    "import numpy as np\n",
    "attributes = [\"Age\", \"Income\", \"Student\", \"Credit_Rating\", \"Buys_Computer\"]\n",
    "data = np.array([\n",
    "\n",
    "    [\"<=30\", \"high\", \"no\", \"fair\", \"no\"],\n",
    "\n",
    "    [\"<=30\", \"high\", \"no\", \"excellent\", \"no\"],\n",
    "\n",
    "    [\"31-40\", \"high\", \"no\", \"fair\", \"yes\"],\n",
    "\n",
    "    [\">40\", \"medium\", \"no\", \"fair\", \"yes\"],\n",
    "\n",
    "    [\">40\", \"low\", \"yes\", \"fair\", \"yes\"],\n",
    "\n",
    "    [\">40\", \"low\", \"yes\", \"excellent\", \"no\"],\n",
    "\n",
    "    [\"31-40\", \"low\", \"yes\", \"excellent\", \"yes\"],\n",
    "\n",
    "    [\"<=30\", \"medium\", \"no\", \"fair\", \"no\"],\n",
    "\n",
    "    [\"<=30\", \"low\", \"yes\", \"fair\", \"yes\"],\n",
    "\n",
    "    [\">40\", \"medium\", \"yes\", \"fair\", \"yes\"],\n",
    "\n",
    "    [\"<=30\", \"medium\", \"yes\", \"excellent\", \"yes\"],\n",
    "\n",
    "    [\"31-40\", \"medium\", \"no\", \"excellent\", \"yes\"],\n",
    "\n",
    "    [\"31-40\", \"high\", \"yes\", \"fair\", \"yes\"],\n",
    "\n",
    "    [\">40\", \"medium\", \"no\", \"excellent\", \"no\"]\n",
    "\n",
    "])\n",
    "\n",
    "def calculate_entropy(data, column):\n",
    "\n",
    "    unique_values, counts = np.unique(data[:, column], return_counts=True)\n",
    "\n",
    "    probabilities = counts / len(data)\n",
    "\n",
    "    entropy = -np.sum(probabilities * np.log2(probabilities))\n",
    "\n",
    "    return entropy\n",
    "\n",
    "entropy_values = {}\n",
    "\n",
    "for column in range(data.shape[1] - 1):\n",
    "\n",
    "    entropy_values[attributes[column]] = calculate_entropy(data, column)\n",
    "\n",
    "selected_attribute = max(entropy_values.items(), key=lambda item: item[1])[0]\n",
    "print(\"Entropy of each attribute / feature:\")\n",
    "\n",
    "for attribute, entropy_value in entropy_values.items():\n",
    "\n",
    "    print(f\"{attribute}: {entropy_value:.3f}\")\n",
    "print(\"First feature to be selected for constructing the decision tree:\")\n",
    "\n",
    "print(f\"{selected_attribute}: {entropy_values[selected_attribute]:.3f}\")"
   ]
  },
  {
   "cell_type": "code",
   "execution_count": null,
   "id": "31eb1c26",
   "metadata": {},
   "outputs": [],
   "source": []
  }
 ],
 "metadata": {
  "kernelspec": {
   "display_name": "Python 3 (ipykernel)",
   "language": "python",
   "name": "python3"
  },
  "language_info": {
   "codemirror_mode": {
    "name": "ipython",
    "version": 3
   },
   "file_extension": ".py",
   "mimetype": "text/x-python",
   "name": "python",
   "nbconvert_exporter": "python",
   "pygments_lexer": "ipython3",
   "version": "3.11.4"
  }
 },
 "nbformat": 4,
 "nbformat_minor": 5
}
